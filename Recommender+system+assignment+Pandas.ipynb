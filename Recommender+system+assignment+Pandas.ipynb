{
 "cells": [
  {
   "cell_type": "code",
   "execution_count": 1,
   "metadata": {
    "collapsed": true
   },
   "outputs": [],
   "source": [
    "import pandas as pd\n",
    "import numpy as np\n",
    "import matplotlib.pyplot as plt\n",
    "import sklearn"
   ]
  },
  {
   "cell_type": "code",
   "execution_count": 2,
   "metadata": {
    "collapsed": true
   },
   "outputs": [],
   "source": [
    "song_data = pd.read_csv('C:/Users/7000320/Desktop/Backup IT011/Pijush Resources/DataSets/Coursera/song_data.csv')"
   ]
  },
  {
   "cell_type": "code",
   "execution_count": 50,
   "metadata": {},
   "outputs": [
    {
     "data": {
      "text/plain": [
       "1116609"
      ]
     },
     "execution_count": 50,
     "metadata": {},
     "output_type": "execute_result"
    }
   ],
   "source": [
    "song_data.head()\n",
    "len(song_data)"
   ]
  },
  {
   "cell_type": "code",
   "execution_count": 4,
   "metadata": {
    "collapsed": true
   },
   "outputs": [],
   "source": [
    "#graphlab.canvas.set_target('ipynb')\n",
    "Song_g = song_data['song']"
   ]
  },
  {
   "cell_type": "code",
   "execution_count": 5,
   "metadata": {
    "collapsed": true
   },
   "outputs": [],
   "source": [
    "users = song_data['user_id'].unique()"
   ]
  },
  {
   "cell_type": "code",
   "execution_count": 11,
   "metadata": {
    "collapsed": true
   },
   "outputs": [],
   "source": [
    "Kanye = song_data[song_data['artist'] == 'Kanye West']\n",
    "Foo = song_data[song_data['artist'] == 'Foo Fighters']\n",
    "Gaga = song_data[song_data['artist'] == 'Lady GaGa']\n",
    "Taylor = song_data[song_data['artist'] == 'Taylor Swift']"
   ]
  },
  {
   "cell_type": "code",
   "execution_count": 12,
   "metadata": {},
   "outputs": [
    {
     "data": {
      "text/plain": [
       "6227"
      ]
     },
     "execution_count": 12,
     "metadata": {},
     "output_type": "execute_result"
    }
   ],
   "source": [
    "Kanye.head()\n",
    "len(Kanye)\n",
    "len(Foo)\n",
    "len(Gaga)\n",
    "len(Taylor)"
   ]
  },
  {
   "cell_type": "code",
   "execution_count": 9,
   "metadata": {
    "collapsed": true
   },
   "outputs": [],
   "source": [
    "Kanye_users = Kanye['user_id'].unique()"
   ]
  },
  {
   "cell_type": "code",
   "execution_count": 10,
   "metadata": {},
   "outputs": [
    {
     "data": {
      "text/plain": [
       "2522"
      ]
     },
     "execution_count": 10,
     "metadata": {},
     "output_type": "execute_result"
    }
   ],
   "source": [
    "len(Kanye_users)"
   ]
  },
  {
   "cell_type": "code",
   "execution_count": 17,
   "metadata": {
    "collapsed": true
   },
   "outputs": [],
   "source": [
    "Foo_users = Foo['user_id'].unique()\n",
    "Gaga_users = Gaga['user_id'].unique()\n",
    "Taylor_users = Taylor['user_id'].unique()"
   ]
  },
  {
   "cell_type": "code",
   "execution_count": 20,
   "metadata": {},
   "outputs": [
    {
     "data": {
      "text/plain": [
       "2055"
      ]
     },
     "execution_count": 20,
     "metadata": {},
     "output_type": "execute_result"
    }
   ],
   "source": [
    "len(Foo_users) # 2055\n",
    "len(Gaga_users) ## 2928\n",
    "len(Taylor_users) # 3246"
   ]
  },
  {
   "cell_type": "code",
   "execution_count": 32,
   "metadata": {},
   "outputs": [],
   "source": [
    "#song_data.groupby(key_columns='artist', operations={'total_count': graphlab.aggregate.SUM('listen_count')})\n",
    "#df.groupby(['Country', 'Item_Code'])[[\"Y1961\", \"Y1962\", \"Y1963\"]].sum()\n",
    "Total_count = song_data.groupby(['artist'])[\"listen_count\"].sum()\n"
   ]
  },
  {
   "cell_type": "code",
   "execution_count": 36,
   "metadata": {
    "collapsed": true
   },
   "outputs": [
    {
     "data": {
      "text/plain": [
       "artist\n",
       "William Tabbert                                                              14\n",
       "Reel Feelings                                                                24\n",
       "Beyoncé feat. Bun B and Slim Thug                                            26\n",
       "Boggle Karaoke                                                               30\n",
       "Diplo                                                                        30\n",
       "harvey summers                                                               31\n",
       "Nâdiya                                                                       36\n",
       "Kanye West / Talib Kweli / Q-Tip / Common / Rhymefest                        38\n",
       "Jody Bernal                                                                  38\n",
       "Aneta Langerova                                                              38\n",
       "John Altman                                                                  39\n",
       "Trademark                                                                    40\n",
       "Lloyd / Ashanti / Scarface                                                   42\n",
       "Yung Joc feat Trick Daddy_ Block & Jazze Pha                                 42\n",
       "Deadmau 5                                                                    43\n",
       "Tandem                                                                       43\n",
       "Elvis Perkins                                                                44\n",
       "Ronnie Foster                                                                44\n",
       "Light This City                                                              44\n",
       "Cypress Hill featuring Damian Marley                                         45\n",
       "Airwave                                                                      46\n",
       "Sangre Azul                                                                  47\n",
       "Rihanna / Kardinal Offishall                                                 47\n",
       "Mott The Hoople                                                              49\n",
       "Switches                                                                     51\n",
       "Sufjan Stevens                                                               52\n",
       "Rakim                                                                        53\n",
       "The Audition                                                                 54\n",
       "Monica featuring Tyrese                                                      54\n",
       "Yung Joc featuring Diddy                                                     54\n",
       "                                                                          ...  \n",
       "3 Doors Down                                                              13047\n",
       "Beyoncé                                                                   13132\n",
       "Tub Ring                                                                  13701\n",
       "Sam Cooke                                                                 14029\n",
       "Black Eyed Peas                                                           14070\n",
       "Creedence Clearwater Revival                                              14137\n",
       "Rise Against                                                              14419\n",
       "The Killers                                                               15184\n",
       "Guns N\\' Roses                                                            15889\n",
       "Daft Punk                                                                 17266\n",
       "Radiohead                                                                 17899\n",
       "John Mayer                                                                17955\n",
       "Taylor Swift                                                              19376\n",
       "Jack Johnson                                                              20177\n",
       "Muse                                                                      20220\n",
       "Metallica                                                                 20336\n",
       "Linkin Park                                                               21368\n",
       "Eminem                                                                    21627\n",
       "Harmonia                                                                  21646\n",
       "Barry Tuckwell/Academy of St Martin-in-the-Fields/Sir Neville Marriner    21953\n",
       "The Black Keys                                                            22184\n",
       "Train                                                                     25402\n",
       "OneRepublic                                                               25754\n",
       "Alliance Ethnik                                                           26689\n",
       "Justin Bieber                                                             29715\n",
       "Florence + The Machine                                                    33387\n",
       "Coldplay                                                                  35362\n",
       "Björk                                                                     38889\n",
       "Dwight Yoakam                                                             40619\n",
       "Kings Of Leon                                                             43218\n",
       "Name: listen_count, Length: 3375, dtype: int64"
      ]
     },
     "execution_count": 36,
     "metadata": {},
     "output_type": "execute_result"
    }
   ],
   "source": [
    "#Total_count\n",
    "Total_count.sort_values(ascending=True) ## least= William Tabbert, Most = Kings of Leon"
   ]
  },
  {
   "cell_type": "code",
   "execution_count": 44,
   "metadata": {},
   "outputs": [
    {
     "name": "stdout",
     "output_type": "stream",
     "text": [
      "3.29076874716\n"
     ]
    }
   ],
   "source": [
    "Avg_listen = song_data['listen_count'].mean()\n",
    "print(Avg_listen)"
   ]
  },
  {
   "cell_type": "code",
   "execution_count": 47,
   "metadata": {},
   "outputs": [
    {
     "name": "stdout",
     "output_type": "stream",
     "text": [
      "7.0\n"
     ]
    }
   ],
   "source": [
    "Min_listen = song_data['listen_count'].quantile(0.90)\n",
    "print(Min_listen)"
   ]
  },
  {
   "cell_type": "code",
   "execution_count": 49,
   "metadata": {},
   "outputs": [
    {
     "data": {
      "text/plain": [
       "114996"
      ]
     },
     "execution_count": 49,
     "metadata": {},
     "output_type": "execute_result"
    }
   ],
   "source": [
    "Songs_min = song_data.copy().loc[song_data['listen_count'] >= Min_listen]\n",
    "len(Songs_min) ## Total 1116609"
   ]
  },
  {
   "cell_type": "code",
   "execution_count": null,
   "metadata": {
    "collapsed": true
   },
   "outputs": [],
   "source": [
    "def weighted_rating(x, m=m, C=C):\n",
    "    v = x_train['listen_count']\n",
    "    R = x_train['']\n",
    "    # Calculation based on the IMDB formula\n",
    "    return (v/(v+m) * R) + (m/(m+v) * C)"
   ]
  },
  {
   "cell_type": "code",
   "execution_count": null,
   "metadata": {
    "collapsed": true
   },
   "outputs": [],
   "source": []
  },
  {
   "cell_type": "code",
   "execution_count": null,
   "metadata": {
    "collapsed": true
   },
   "outputs": [],
   "source": []
  },
  {
   "cell_type": "code",
   "execution_count": null,
   "metadata": {
    "collapsed": true
   },
   "outputs": [],
   "source": []
  },
  {
   "cell_type": "code",
   "execution_count": null,
   "metadata": {
    "collapsed": true
   },
   "outputs": [],
   "source": []
  },
  {
   "cell_type": "code",
   "execution_count": 40,
   "metadata": {},
   "outputs": [],
   "source": [
    "from sklearn.model_selection import train_test_split\n",
    "##train_data,test_data = song_data.random_split(.8,seed=0)\n",
    "x_train ,x_test = train_test_split(song_data,test_size=0.8)"
   ]
  },
  {
   "cell_type": "code",
   "execution_count": 42,
   "metadata": {},
   "outputs": [
    {
     "data": {
      "text/html": [
       "<div>\n",
       "<style>\n",
       "    .dataframe thead tr:only-child th {\n",
       "        text-align: right;\n",
       "    }\n",
       "\n",
       "    .dataframe thead th {\n",
       "        text-align: left;\n",
       "    }\n",
       "\n",
       "    .dataframe tbody tr th {\n",
       "        vertical-align: top;\n",
       "    }\n",
       "</style>\n",
       "<table border=\"1\" class=\"dataframe\">\n",
       "  <thead>\n",
       "    <tr style=\"text-align: right;\">\n",
       "      <th></th>\n",
       "      <th>user_id</th>\n",
       "      <th>song_id</th>\n",
       "      <th>listen_count</th>\n",
       "      <th>title</th>\n",
       "      <th>artist</th>\n",
       "      <th>song</th>\n",
       "    </tr>\n",
       "  </thead>\n",
       "  <tbody>\n",
       "    <tr>\n",
       "      <th>371407</th>\n",
       "      <td>c2ea23bda08d0702e0540064449f7a38e3f4faa4</td>\n",
       "      <td>SOWKUZM12A67AE0D37</td>\n",
       "      <td>1</td>\n",
       "      <td>Street Justice</td>\n",
       "      <td>MSTRKRFT</td>\n",
       "      <td>Street Justice - MSTRKRFT</td>\n",
       "    </tr>\n",
       "    <tr>\n",
       "      <th>465040</th>\n",
       "      <td>5f6ddea8f7a81e321424c2b9b41767c0bff5fc5b</td>\n",
       "      <td>SOJLRGA12A8AE4778A</td>\n",
       "      <td>1</td>\n",
       "      <td>Confessions</td>\n",
       "      <td>Usher</td>\n",
       "      <td>Confessions - Usher</td>\n",
       "    </tr>\n",
       "    <tr>\n",
       "      <th>326254</th>\n",
       "      <td>45b644deb212acb2857c35b7366a31f8eebe749e</td>\n",
       "      <td>SOYWPMG12A6D4F901A</td>\n",
       "      <td>10</td>\n",
       "      <td>American Soldier</td>\n",
       "      <td>Toby Keith</td>\n",
       "      <td>American Soldier - Toby Keith</td>\n",
       "    </tr>\n",
       "    <tr>\n",
       "      <th>238995</th>\n",
       "      <td>dfb04c4a166ddd0e53cafccb9f0540a7744e2346</td>\n",
       "      <td>SOTIVSJ12A6310DA82</td>\n",
       "      <td>4</td>\n",
       "      <td>Nighttime</td>\n",
       "      <td>Oscar Peterson</td>\n",
       "      <td>Nighttime - Oscar Peterson</td>\n",
       "    </tr>\n",
       "    <tr>\n",
       "      <th>413088</th>\n",
       "      <td>eff2b170cab15d5f5c732fd95ec345e9a6e099f5</td>\n",
       "      <td>SOIJQTG12AAF3B3CD4</td>\n",
       "      <td>1</td>\n",
       "      <td>PUSSY</td>\n",
       "      <td>Rammstein</td>\n",
       "      <td>PUSSY - Rammstein</td>\n",
       "    </tr>\n",
       "  </tbody>\n",
       "</table>\n",
       "</div>"
      ],
      "text/plain": [
       "                                         user_id             song_id  \\\n",
       "371407  c2ea23bda08d0702e0540064449f7a38e3f4faa4  SOWKUZM12A67AE0D37   \n",
       "465040  5f6ddea8f7a81e321424c2b9b41767c0bff5fc5b  SOJLRGA12A8AE4778A   \n",
       "326254  45b644deb212acb2857c35b7366a31f8eebe749e  SOYWPMG12A6D4F901A   \n",
       "238995  dfb04c4a166ddd0e53cafccb9f0540a7744e2346  SOTIVSJ12A6310DA82   \n",
       "413088  eff2b170cab15d5f5c732fd95ec345e9a6e099f5  SOIJQTG12AAF3B3CD4   \n",
       "\n",
       "        listen_count             title          artist  \\\n",
       "371407             1    Street Justice        MSTRKRFT   \n",
       "465040             1       Confessions           Usher   \n",
       "326254            10  American Soldier      Toby Keith   \n",
       "238995             4         Nighttime  Oscar Peterson   \n",
       "413088             1             PUSSY       Rammstein   \n",
       "\n",
       "                                 song  \n",
       "371407      Street Justice - MSTRKRFT  \n",
       "465040            Confessions - Usher  \n",
       "326254  American Soldier - Toby Keith  \n",
       "238995     Nighttime - Oscar Peterson  \n",
       "413088              PUSSY - Rammstein  "
      ]
     },
     "execution_count": 42,
     "metadata": {},
     "output_type": "execute_result"
    }
   ],
   "source": [
    "x_train.head()\n",
    "x_test.head()"
   ]
  },
  {
   "cell_type": "code",
   "execution_count": null,
   "metadata": {
    "collapsed": true
   },
   "outputs": [],
   "source": []
  },
  {
   "cell_type": "code",
   "execution_count": null,
   "metadata": {
    "collapsed": true
   },
   "outputs": [],
   "source": []
  },
  {
   "cell_type": "code",
   "execution_count": null,
   "metadata": {
    "collapsed": true
   },
   "outputs": [],
   "source": []
  },
  {
   "cell_type": "code",
   "execution_count": null,
   "metadata": {
    "collapsed": true
   },
   "outputs": [],
   "source": []
  },
  {
   "cell_type": "code",
   "execution_count": null,
   "metadata": {
    "collapsed": true
   },
   "outputs": [],
   "source": []
  },
  {
   "cell_type": "code",
   "execution_count": null,
   "metadata": {
    "collapsed": true
   },
   "outputs": [],
   "source": []
  },
  {
   "cell_type": "code",
   "execution_count": null,
   "metadata": {
    "collapsed": true
   },
   "outputs": [],
   "source": []
  },
  {
   "cell_type": "code",
   "execution_count": null,
   "metadata": {
    "collapsed": true
   },
   "outputs": [],
   "source": []
  },
  {
   "cell_type": "code",
   "execution_count": null,
   "metadata": {
    "collapsed": true
   },
   "outputs": [],
   "source": []
  }
 ],
 "metadata": {
  "kernelspec": {
   "display_name": "Python 2",
   "language": "python",
   "name": "python2"
  },
  "language_info": {
   "codemirror_mode": {
    "name": "ipython",
    "version": 2
   },
   "file_extension": ".py",
   "mimetype": "text/x-python",
   "name": "python",
   "nbconvert_exporter": "python",
   "pygments_lexer": "ipython2",
   "version": "2.7.14"
  }
 },
 "nbformat": 4,
 "nbformat_minor": 2
}
